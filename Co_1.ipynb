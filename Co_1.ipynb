{
  "nbformat": 4,
  "nbformat_minor": 0,
  "metadata": {
    "colab": {
      "name": "Co 1.ipynb",
      "provenance": [],
      "collapsed_sections": [],
      "authorship_tag": "ABX9TyOwGymD6t5YLe4mi5agFPRu",
      "include_colab_link": true
    },
    "kernelspec": {
      "name": "python3",
      "display_name": "Python 3"
    },
    "language_info": {
      "name": "python"
    }
  },
  "cells": [
    {
      "cell_type": "markdown",
      "metadata": {
        "id": "view-in-github",
        "colab_type": "text"
      },
      "source": [
        "<a href=\"https://colab.research.google.com/github/rajalakshmigit/pythonpgm/blob/master/Co_1.ipynb\" target=\"_parent\"><img src=\"https://colab.research.google.com/assets/colab-badge.svg\" alt=\"Open In Colab\"/></a>"
      ]
    },
    {
      "cell_type": "code",
      "metadata": {
        "colab": {
          "base_uri": "https://localhost:8080/"
        },
        "id": "bx0VBDm5P7rV",
        "outputId": "a505b336-c2f9-4010-ccc1-ecf0b4d2e120"
      },
      "source": [
        " \n",
        "#2\n",
        "y1=int(input(\"enter current year\"))\n",
        "y2=int(input(\"enter last year\"))\n",
        "for i in range(y1,y2+1):\n",
        "   if(i%4==0 and i%100!=0 or i%400==0):\n",
        "     print(i)\n",
        "i=i+1"
      ],
      "execution_count": null,
      "outputs": [
        {
          "output_type": "stream",
          "text": [
            "enter current year2000\n",
            "enter last year2021\n",
            "2000\n",
            "2004\n",
            "2008\n",
            "2012\n",
            "2016\n",
            "2020\n"
          ],
          "name": "stdout"
        }
      ]
    },
    {
      "cell_type": "code",
      "metadata": {
        "colab": {
          "base_uri": "https://localhost:8080/"
        },
        "id": "-pukawdZRJFC",
        "outputId": "db76efbb-7bb6-4da4-8142-99885bc32f05"
      },
      "source": [
        "#5\n",
        "list=[]\n",
        "for i in range(6):\n",
        "  x=int(input(\"enter the nmbr\"))\n",
        "  if x<=100:\n",
        "     list.append(x)\n",
        "  else:\n",
        "     list.append(over)\n",
        "print(list)"
      ],
      "execution_count": null,
      "outputs": [
        {
          "output_type": "stream",
          "text": [
            "enter the nmbr100\n",
            "enter the nmbr45\n",
            "enter the nmbr35\n",
            "enter the nmbr90\n",
            "enter the nmbr100\n",
            "enter the nmbr34\n",
            "[100, 45, 35, 90, 100, 34]\n"
          ],
          "name": "stdout"
        }
      ]
    },
    {
      "cell_type": "code",
      "metadata": {
        "colab": {
          "base_uri": "https://localhost:8080/"
        },
        "id": "E_IUFp4CRC3G",
        "outputId": "5b881efe-4bee-47b4-9098-84ae8b2268bf"
      },
      "source": [
        "#2 a\n",
        "list=[8,5,-9]\n",
        "newlist=[x for x in list if x>0]\n",
        "print(newlist)"
      ],
      "execution_count": null,
      "outputs": [
        {
          "output_type": "stream",
          "text": [
            "[8, 5]\n"
          ],
          "name": "stdout"
        }
      ]
    },
    {
      "cell_type": "code",
      "metadata": {
        "colab": {
          "base_uri": "https://localhost:8080/"
        },
        "id": "4X_B6WzdTgjW",
        "outputId": "06a347a8-0282-479c-8653-887a90459aad"
      },
      "source": [
        "#2 b\n",
        "list=[2,4,6]\n",
        "sqlist=[list**2 for list in list]\n",
        "print(sqlist)"
      ],
      "execution_count": null,
      "outputs": [
        {
          "output_type": "stream",
          "text": [
            "[4, 16, 36]\n"
          ],
          "name": "stdout"
        }
      ]
    },
    {
      "cell_type": "code",
      "metadata": {
        "colab": {
          "base_uri": "https://localhost:8080/"
        },
        "id": "qG1JeEb2UCan",
        "outputId": "e38e9dd4-2b13-4c34-b584-5e5114309208"
      },
      "source": [
        "#2 c\n",
        "w=\"orange \"\n",
        "vowels=\"aeiou\"\n",
        "list=[x for x in w if x in vowels]\n",
        "print(list)"
      ],
      "execution_count": null,
      "outputs": [
        {
          "output_type": "stream",
          "text": [
            "['o', 'a', 'e']\n"
          ],
          "name": "stdout"
        }
      ]
    },
    {
      "cell_type": "code",
      "metadata": {
        "colab": {
          "base_uri": "https://localhost:8080/"
        },
        "id": "5IPFGrNBUaqv",
        "outputId": "be7ded6e-9977-4429-95f9-2f495f8810d8"
      },
      "source": [
        "#2 d\n",
        "word=\"flower\"\n",
        "list=[ord(x) for x in word]\n",
        "print(list)"
      ],
      "execution_count": null,
      "outputs": [
        {
          "output_type": "stream",
          "text": [
            "[102, 108, 111, 119, 101, 114]\n"
          ],
          "name": "stdout"
        }
      ]
    },
    {
      "cell_type": "code",
      "metadata": {
        "colab": {
          "base_uri": "https://localhost:8080/"
        },
        "id": "_KpcwncgUySO",
        "outputId": "24cd3606-bd17-4826-9989-83f4d4e5c6b8"
      },
      "source": [
        "#4\n",
        "string=input(\"enter any string:\")\n",
        "c=input(\"enter te character to the string\")\n",
        "count =0\n",
        "for i in string:\n",
        "  if i == c:\n",
        "    count = count +1\n",
        "print(c,\"occurs\",count,\"times\")"
      ],
      "execution_count": null,
      "outputs": [
        {
          "output_type": "stream",
          "text": [
            "655\n"
          ],
          "name": "stdout"
        }
      ]
    },
    {
      "cell_type": "code",
      "metadata": {
        "id": "Hmx2R0i3glWs"
      },
      "source": [
        "#co1 5\n",
        "list=[]\n",
        "for i in range(6):\n",
        "    x=int(input(\"enter the number\"))\n",
        "    if x<=100:\n",
        "       list.append(x)\n",
        "    else :\n",
        "       list.append(\"over\")\n",
        "print(list)\n"
      ],
      "execution_count": null,
      "outputs": []
    },
    {
      "cell_type": "code",
      "metadata": {
        "id": "JwJ9GDofgwul"
      },
      "source": [
        "#6\n",
        "list=[\"amma\", \"b\",\"amma\",\"c\" ]\n",
        "occ=list.count(\"amma\")\n",
        "print(occ)"
      ],
      "execution_count": null,
      "outputs": []
    },
    {
      "cell_type": "code",
      "metadata": {
        "id": "QpPHFiYYhhc9"
      },
      "source": [
        "#co1 7\n",
        "l1=(2,4,6,7,8  )\n",
        "l2=[6,8,9,0,4,9,9]\n",
        "print(\"length of l1\",len(l1))\n",
        "print(\"length of l2\",len(l2))\n",
        "total=sum(l1)\n",
        "print(\"sum of l1\",total)\n",
        "total=sum(l2)\n",
        "print(\"sum of l2\",total)\n",
        "l3=[]\n",
        "for number in l1:\n",
        "    if number in l2:\n",
        "        if number not in l3:\n",
        "            l3.append(number)\n",
        "print(l3)\n",
        "\n"
      ],
      "execution_count": null,
      "outputs": []
    },
    {
      "cell_type": "code",
      "metadata": {
        "id": "a-8Iy60xhjEJ"
      },
      "source": [
        "#co1 8\n",
        "def stringch (str):\n",
        "   char = str[0]\n",
        "   str=str.replace(char,'$')\n",
        "   str=char+str[1:]\n",
        "   return str\n",
        "print(stringch(\"pappaya\"))"
      ],
      "execution_count": null,
      "outputs": []
    },
    {
      "cell_type": "code",
      "metadata": {
        "id": "ObXLOL4Uh-Qk"
      },
      "source": [
        "co1 9\n",
        "def stringch(str):\n",
        "   return str[-1:]+str[1:-1]+str[:1]\n",
        "print(stringch('a,b,c,d'))"
      ],
      "execution_count": null,
      "outputs": []
    },
    {
      "cell_type": "code",
      "metadata": {
        "id": "jxT1vj6ziPLD"
      },
      "source": [
        "#co1 10\n",
        "r=int(input(\"enter the radius of circles\"))\n",
        "a=3.14*r**2\n",
        "print(\"area \",a)"
      ],
      "execution_count": null,
      "outputs": []
    },
    {
      "cell_type": "code",
      "metadata": {
        "id": "CRthIcYSiWqR"
      },
      "source": [
        "#co1 11\n",
        "n1=int(input(\"enter the number n1:\"))\n",
        "n2=int(input(\"enter the number n2\"))\n",
        "n3=int(input(\"enter the number n3:\"))\n",
        "if n1>n2:\n",
        "    if n1>n3:\n",
        "        print(\"the biggest number is \",n1)\n",
        "    else:\n",
        "        print(\"te biggest number is \",n3 )\n",
        "elif n2>n3:\n",
        "    print(\"the biggest number is\",n2)\n",
        "else:\n",
        "    print(\"the biggest number is \",n3)\n"
      ],
      "execution_count": null,
      "outputs": []
    },
    {
      "cell_type": "code",
      "metadata": {
        "id": "3ejzz2OWij_Q"
      },
      "source": [
        "#co1 12\n",
        "a=input(\"enter the file with extension\")\n",
        "x=a.split(\".\")\n",
        "print(\"the file is of \" ,x[1], \"extension\")"
      ],
      "execution_count": null,
      "outputs": []
    },
    {
      "cell_type": "code",
      "metadata": {
        "id": "x_8koTfNizZa"
      },
      "source": [
        "#co1 13\n",
        "color=input(\"Enter the list of color names seperated by commas:\")\n",
        "print(\"First color entered :\",color.split(\",\")[0])\n",
        "print(\"Last color entered :\",color.split(\",\")[-1])\n"
      ],
      "execution_count": null,
      "outputs": []
    },
    {
      "cell_type": "code",
      "metadata": {
        "id": "dRBaLf-DjAVa"
      },
      "source": [
        "#co1 14\n",
        "n=int(input(\"enter a number:\"))\n",
        "temp=str(n)\n",
        "t1=temp+temp\n",
        "t2=temp+temp+temp\n",
        "tem=n+int(t1)+int(t2)\n",
        "print(\"the value is:\",tem)\n"
      ],
      "execution_count": null,
      "outputs": []
    },
    {
      "cell_type": "code",
      "metadata": {
        "id": "pj7QooLejLFt"
      },
      "source": [
        "#co1 15\n",
        "color_list1=set([\"black\",\"red\",\"blue\"])\n",
        "color_list2=set([\"red\",\"green\"])\n",
        "print(color_list1.difference(color_list2))"
      ],
      "execution_count": null,
      "outputs": []
    },
    {
      "cell_type": "code",
      "metadata": {
        "id": "ELXsPTCAjZBz"
      },
      "source": [
        "#co1 16\n",
        "def charchange(a,b):\n",
        "    new_a=b[:2]+a[2:]\n",
        "    new_b=a[:2]+b[2:]\n",
        "    return new_a+' '+new_b\n",
        "print(charchange('navya','pp') )"
      ],
      "execution_count": null,
      "outputs": []
    },
    {
      "cell_type": "code",
      "metadata": {
        "id": "qSMEBbnwjkTC"
      },
      "source": [
        "#co1 17\n",
        "import operator\n",
        "d={0:8,1:5,2:6,3:9,4:4,5:0}\n",
        "acs=sorted(d.items(),key=operator.itemgetter(1))\n",
        "print(\"ascending order\",acs)\n",
        "ds=sorted(d.items(),key=operator.itemgetter(1),reverse=True)\n",
        "print(\"descending order\",ds)\n"
      ],
      "execution_count": null,
      "outputs": []
    },
    {
      "cell_type": "code",
      "metadata": {
        "id": "wHexJSIkjsv-"
      },
      "source": [
        "#co1 18\n",
        "dic1={1:10,2:20,3:30,4:40}\n",
        "dic2={5:50,6:60,7:70}\n",
        "dic1.update(dic2)\n",
        "print(\"merge\",dic1)\n"
      ],
      "execution_count": null,
      "outputs": []
    },
    {
      "cell_type": "code",
      "metadata": {
        "id": "28tRiJpGj3Qa"
      },
      "source": [
        "#co1 19\n",
        "import  math\n",
        "a=int(input(\"enter te number1\"))\n",
        "b=int(input(\"enter the number2\"))\n",
        "gcd=math.gcd(a,b)\n",
        "print(gcd)"
      ],
      "execution_count": null,
      "outputs": []
    },
    {
      "cell_type": "code",
      "metadata": {
        "id": "vI7gvshOkBNR"
      },
      "source": [
        "#co1 20\n",
        "list1=[2,5,9,8,7,5,3,0,3]\n",
        "for i in list1:\n",
        "    if i%2==0:\n",
        "        list1.remove(i)\n",
        "print(list1)"
      ],
      "execution_count": null,
      "outputs": []
    }
  ]
}